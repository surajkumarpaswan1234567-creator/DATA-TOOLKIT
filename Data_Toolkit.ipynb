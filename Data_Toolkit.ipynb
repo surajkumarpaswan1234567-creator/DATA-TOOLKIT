{
  "nbformat": 4,
  "nbformat_minor": 0,
  "metadata": {
    "colab": {
      "provenance": []
    },
    "kernelspec": {
      "name": "python3",
      "display_name": "Python 3"
    },
    "language_info": {
      "name": "python"
    }
  },
  "cells": [
    {
      "cell_type": "markdown",
      "source": [
        "**DATA TOOLKIT THEROY QUSTIONS AND ANSWERS**\n"
      ],
      "metadata": {
        "id": "eYEhLt9khbCs"
      }
    },
    {
      "cell_type": "markdown",
      "source": [
        "Q-1  What is NumPy, and why is it widely used in Python?\n",
        "\n",
        "   ANS--NumPy (short for Numerical Python) is a powerful open-source library in Python used for numerical and scientific computing.\n",
        "\n",
        "* WHY NUMPY IS WIDLEY USED:-\n",
        "   | Reason                               | Explanation                                                       |\n",
        "| ------------------------------------ | ----------------------------------------------------------------- |\n",
        "| **Performance**                      | Fast computations due to vectorization and C-level optimizations. |\n",
        "| **Memory Efficiency**                | Uses less memory than Python lists or other containers.           |\n",
        "| **Ease of Use**                      | Clean, expressive syntax for mathematical operations.             |\n",
        "| **Foundation for Data Science & ML** | Integral to most data science and machine learning pipelines.     |\n",
        "| **Interoperability**                 | Easily integrates with C/C++, Fortran code, and other libraries.  |\n"
      ],
      "metadata": {
        "id": "woNAO801hp5U"
      }
    },
    {
      "cell_type": "markdown",
      "source": [
        "Q-2  How does broadcasting work in NumPy?\n",
        "\n",
        "ANS--  Broadcasting in NumPy is a powerful mechanism that allows arrays of different shapes to be used in arithmetic operations without explicitly reshaping them. It makes array operations more flexible and concise, especially when working with arrays of different dimensions.\n",
        "\n",
        "EXAMPLE:-\n",
        "     \n",
        " import numpy as np\n",
        "\n",
        " a=np.array([1,2,3])\n",
        " b=2\n",
        "\n",
        " print(a+b)\n"
      ],
      "metadata": {
        "id": "WRBy7-KvkHT4"
      }
    },
    {
      "cell_type": "markdown",
      "source": [
        "Q-3  What is a Pandas DataFrame?\n",
        "\n",
        "ANS--  A Pandas DataFrame is a 2-dimensional, labeled data structure in Python, similar to a spreadsheet or SQL table. It's one of the core data structures in the Pandas library, which is widely used for data analysis, manipulation, and cleaning.\n",
        "\n",
        "EXAMPLE:-\n",
        "  \n",
        "   import pandas as pd\n",
        "\n",
        "data = {\n",
        "    'Name': ['Alice', 'Bob', 'Charlie'],\n",
        "    'Age': [25, 30, 35],\n",
        "    'City': ['New York', 'London', 'Paris']\n",
        "}\n",
        "\n",
        "df = pd.DataFrame(data)\n",
        "print(df)\n",
        "\n",
        "\n"
      ],
      "metadata": {
        "id": "xKmvb8yRk--5"
      }
    },
    {
      "cell_type": "markdown",
      "source": [
        "Q-4  Explain the use of the groupby() method in Pandas.\n",
        "\n",
        " ANS--  The groupby() method in Pandas is used to split data into groups based on some criteria and then apply a function to each group independently. It’s an essential tool for data aggregation, summarization, and analysis — especially when working with grouped or categorized data.\n",
        "\n",
        " EXAMPLE:-\n",
        "    \n",
        "     import pandas as pd\n",
        "\n",
        "data = {\n",
        "    'Department': ['Sales', 'Sales', 'HR', 'HR', 'IT'],\n",
        "    'Employee': ['Alice', 'Bob', 'Charlie', 'David', 'Eve'],\n",
        "    'Salary': [50000, 60000, 45000, 47000, 70000]\n",
        "}\n",
        "\n",
        "df = pd.DataFrame(data)\n"
      ],
      "metadata": {
        "id": "Bl0fZWokljQi"
      }
    },
    {
      "cell_type": "markdown",
      "source": [
        "Q- 5   Why is Seaborn preferred for statistical visualizations?\n",
        "\n",
        "ANS--  Seaborn is preferred for statistical visualizations in Python because it builds on top of Matplotlib and provides a high-level interface for creating attractive, informative, and easy-to-use visualizations — especially when working with pandas DataFrames.\n",
        "\n",
        "EXAMPLE:-  \n",
        "      \n",
        "       import seaborn as sns\n",
        "\n",
        "sns.boxplot(x=\"species\", y=\"sepal_length\", data=df)\n"
      ],
      "metadata": {
        "id": "_wc6a-Q7mEQb"
      }
    },
    {
      "cell_type": "markdown",
      "source": [
        "Q-6 What are the differences between NumPy arrays and Python lists?\n",
        "\n",
        " ANS--  NumPy arrays and Python lists may look similar at first glance (both can store collections of data), they are fundamentally different in terms of performance, functionality, and memory usage.\n",
        "\n",
        "\n",
        " | Feature   | NumPy Array                                              | Python List                |\n",
        "| --------- | -------------------------------------------------------- | -------------------------- |\n",
        "| **Speed** | Much faster (C-level optimizations)                      | Slower (pure Python loops) |\n",
        "| **Why?**  | Uses **contiguous memory** and **vectorized operations** | Uses pointers and loops    |\n",
        "\n",
        "\n",
        "2)  | Feature               | NumPy Array                      | Python List                                           |\n",
        "| --------------------- | -------------------------------- | ----------------------------------------------------- |\n",
        "| **Memory efficiency** | Very efficient (fixed data type) | Less efficient (each element is a full Python object) |\n"
      ],
      "metadata": {
        "id": "KQn980OdmnNe"
      }
    },
    {
      "cell_type": "markdown",
      "source": [
        "Q-7 What is a heatmap, and when should it be used?\n",
        "\n",
        "  ANS--  A heatmap is a data visualization technique that uses color to represent the values of data in a 2D matrix or table. It is a very effective way to visually highlight patterns, correlations, and outliers in large or complex datasets.\n",
        "\n",
        "  * WHEN SHOULD WE USE A HEATMAP?\n",
        "\n",
        "  | Use Case                     | Why It Helps                                                             |\n",
        "| ---------------------------- | ------------------------------------------------------------------------ |\n",
        "| **Visualizing correlations** | Easily spot strong or weak relationships between variables               |\n",
        "| **Identifying patterns**     | Color gradients highlight clusters, trends, or anomalies                 |\n",
        "| **Monitoring systems**       | See performance metrics (e.g., CPU usage, error rates) across time/users |\n",
        "| **Cross-tab data**           | Explore frequency/count tables from grouped data                         |\n",
        "| **Feature relationships**    | Identify which features are redundant or highly related in ML            |\n",
        "  \n",
        "\n",
        "  EXAMPLE:-\n",
        "       \n",
        "       import seaborn as sns\n",
        "import pandas as pd\n",
        "\n",
        "# Sample data\n",
        "df = sns.load_dataset('iris')\n",
        "\n",
        "# Correlation matrix\n",
        "corr = df.corr(numeric_only=True)\n",
        "\n",
        "# Plot heatmap\n",
        "sns.heatmap(corr, annot=True, cmap='coolwarm')\n"
      ],
      "metadata": {
        "id": "pnk0bWM7nMW9"
      }
    },
    {
      "cell_type": "markdown",
      "source": [
        "Q- 8 What does the term “vectorized operation” mean in NumPy?\n",
        "\n",
        "ANS--  The term \"vectorized operation\" in NumPy refers to performing operations on entire arrays (vectors, matrices, etc.) without using explicit Python loops.\n",
        "\n",
        "Instead of looping through each element manually (like you would with a Python list), NumPy applies the operation to the whole array at once — internally using optimized, compiled code (usually in C). This makes your code faster, cleaner, and more efficient.\n",
        "\n",
        "Example: Python Loop vs NumPy Vectorized\n",
        "\n",
        "  a = [1, 2, 3, 4]\n",
        "b = [2*x for x in a]\n",
        "print(b)  # [2, 4, 6, 8]\n"
      ],
      "metadata": {
        "id": "V2lr5XLxn1RK"
      }
    },
    {
      "cell_type": "markdown",
      "source": [
        "Q-9  How does Matplotlib differ from Plotly?\n",
        "\n",
        " ANS--  Matplotlib and Plotly are both powerful Python libraries for data visualization, but they serve different use cases and have distinct features..\n",
        "\n",
        " | Feature           | **Matplotlib**            | **Plotly**                                   |\n",
        "| ----------------- | ------------------------- | -------------------------------------------- |\n",
        "| **Interactivity** |  Static plots by default |  Fully interactive plots (zoom, pan, hover) |\n",
        "| **Use Case**      | Print or static reports   | Dashboards, web apps, data exploration       |\n",
        "\n",
        "\n",
        "\n",
        "| Feature            | **Matplotlib**         | **Plotly**                               |\n",
        "| ------------------ | ---------------------- | ---------------------------------------- |\n",
        "\n",
        "\n",
        "| **Learning Curve** | Moderate to steep      | Easier with high-level API               |\n",
        "| **Syntax Style**   | MatLab-like, low-level | Declarative, high-level (Plotly Express) |\n",
        "\n",
        "\n",
        "\n",
        "| Chart Type             | Matplotlib            | Plotly      |\n",
        "| ---------------------- | --------------------- | ----------- |\n",
        "| Line, bar, scatter     |   Yes                 | Yes       |\n",
        "| Heatmaps               |  Yes                 |  Yes       |\n",
        "| 3D plots               |  Limited            | Built-in  |\n",
        "| Maps (Geo, Choropleth) |  Requires extra libs |  Built-in  |\n",
        "| Dashboards/Web GUIs    |  Not supported       |  With Dash |\n"
      ],
      "metadata": {
        "id": "J6eJSRxnoiq_"
      }
    },
    {
      "cell_type": "markdown",
      "source": [
        "Q- 10 What is the significance of hierarchical indexing in Pandas?\n",
        "\n",
        " ANS-- Hierarchical indexing (also known as MultiIndexing) in Pandas is a powerful feature that allows you to work with multiple levels of indexing on a DataFrame or Series. This enables you to represent higher-dimensional data in a 2D tabular format, making complex data structures easier to manipulate and analyze.\n",
        "\n",
        " | Feature                                 | Benefit                                                            |\n",
        "| --------------------------------------- | ------------------------------------------------------------------ |\n",
        "|  **Represents multi-dimensional data** | You can store 3D-like data in 2D tables                            |\n",
        "|  **Improved data organization**        | Naturally group and nest data categories                           |\n",
        "|  **Powerful group operations**         | Enables easy aggregation, slicing, and reshaping                   |\n",
        "|  **Flexible reshaping**                | Works well with `stack()`, `unstack()`, `pivot_table()`            |\n",
        "|  **Cleaner code**                      | Reduces the need for deeply nested dictionaries or manual grouping |\n",
        "\n",
        "\n",
        "EXAMPLE:-\n",
        "      \n",
        "   Index: ['A', 'B', 'C']\n",
        "   "
      ],
      "metadata": {
        "id": "C_9dso6upTSe"
      }
    },
    {
      "cell_type": "markdown",
      "source": [
        "Q- 11  What is the role of Seaborn’s pairplot() function?\n",
        "\n",
        "  ANS--  The pairplot() function in Seaborn is a very useful tool for exploratory data analysis (EDA). Its main role is to provide a quick and comprehensive visualization of pairwise relationships between numeric variables in a dataset.\n",
        "\n",
        "  ROLE OF SEABORN.PAIRLOT()\n",
        "\n",
        "  * Visualizes pairwise relationships: It creates a grid of plots where each variable in the dataset is paired with every other variable. This helps to examine relationships (e.g., linear, non-linear, correlated, etc.) between variables.\n",
        "\n",
        "\n",
        "  * Diagonal shows distributions: The diagonal of the grid usually displays histograms or kernel density estimates (KDEs) of individual variables.\n",
        "\n",
        "\n",
        "  * Color coding using hue: You can use the hue parameter to color-code the data points based on a categorical variable, making it easier to see patterns or separations between classes/groups."
      ],
      "metadata": {
        "id": "hYpbldGcp6dN"
      }
    },
    {
      "cell_type": "markdown",
      "source": [
        "Q-12  What is the purpose of the describe() function in Pandas?\n",
        "\n",
        "  ANS-- The .describe() function in Pandas is used to generate descriptive statistics for a DataFrame or Series. It provides a quick summary of the central tendency, dispersion, and shape of a dataset’s distribution.\n",
        "\n",
        "EXAMPLE:-\n",
        "\n",
        "    import pandas as pd\n",
        "\n",
        "df = pd.DataFrame({\n",
        "    'age': [25, 30, 35, 40, 45],\n",
        "    'salary': [50000, 60000, 70000, 80000, 90000]\n",
        "})\n",
        "\n",
        "print(df.describe())\n",
        "\n"
      ],
      "metadata": {
        "id": "IanM_x-mfoZC"
      }
    },
    {
      "cell_type": "markdown",
      "source": [
        "Q 13  Why is handling missing data important in Pandas?\n",
        "\n",
        "  ANS-- Handling missing data is crucial in Pandas (and data analysis in general) because missing values can:\n",
        "\n",
        "  1) Distort Analysis & Results\n",
        "\n",
        "     * Statistical calculations (like mean, std, etc.) may be inaccurate or misleading if missing values are not addressed.\n",
        "\n",
        "     * Many machine learning models and algorithms cannot handle NaN values and will raise errors or fail silently.\n",
        "\n",
        "  2)  Cause Errors in Processing\n",
        "\n",
        "     * Functions like .sum(), .mean(), or .corr() may behave unexpectedly if missing data is present.\n",
        "\n",
        "     * Operations like joins, groupbys, and aggregations might skip or misrepresent groups due to missing data.\n",
        "\n",
        "  3) Affect Data Integrity & Insights\n",
        "\n",
        "     * Missing data can bias your conclusions. For example, if data is not missing at random, ignoring it can lead to skewed insights.\n",
        "\n",
        "     * It’s essential to understand why data is missing and whether that pattern itself contains information.\n",
        "\n",
        "\n",
        "  4) nable Proper Cleaning & Preparation\n",
        "   \n",
        "     Before modeling or visualizing data, handling missing values helps ensure:\n",
        "\n",
        "     * Clean datasets\n",
        "\n",
        "     * Correct data types\n",
        "\n",
        "     * Better model performance"
      ],
      "metadata": {
        "id": "PiWUqUrghLRl"
      }
    },
    {
      "cell_type": "markdown",
      "source": [
        "Q-14 What are the benefits of using Plotly for data visualization?\n",
        "\n",
        "\n",
        "  ANS-- Using Plotly for data visualization in Python offers several powerful benefits, especially compared to traditional libraries like Matplotlib or Seaborn.\n",
        "\n",
        "  Benefits of Using Plotly:\n",
        "\n",
        "1. Interactive Visualizations\n",
        "\n",
        "   *  Zoom\n",
        "\n",
        "   * Pan\n",
        "\n",
        "   * Hover to see details\n",
        "\n",
        "   * Toggle legend items\n",
        "\n",
        "2. High-Quality, Publication-Ready Graphics\n",
        "\n",
        "  * Produces clean, modern, and visually appealing plots.\n",
        "\n",
        "  * Vector-quality exports (SVG, PDF) supported.\n",
        "\n",
        "  * Highly customizable layout and style.\n",
        "\n",
        "3. Wide Variety of Charts\n",
        "\n",
        "  * Line, bar, scatter, pie, area\n",
        "\n",
        "  * Histograms, box plots, violin plots\n",
        "\n",
        "  * Heatmaps, contour plots\n",
        "\n",
        "  * 3D plots (scatter3d, surface)\n",
        "  "
      ],
      "metadata": {
        "id": "sDRmrORaivlh"
      }
    },
    {
      "cell_type": "markdown",
      "source": [
        "Q-15 How does NumPy handle multidimensional arrays?\n",
        "\n",
        " ANS-- NumPy handles multidimensional arrays using its core data structure: the ndarray (N-dimensional array). It is a powerful and efficient way to represent and manipulate data in 1D, 2D, 3D, or even higher dimensions.\n",
        "\n"
      ],
      "metadata": {
        "id": "1AqecnwHkXF4"
      }
    },
    {
      "cell_type": "markdown",
      "source": [
        "Q-16  What is the role of Bokeh in data visualization?\n",
        "\n",
        " ANS-- Bokeh is a powerful Python library for creating interactive, web-ready data visualizations. It is especially useful for building live, browser-based dashboards and interactive plots without needing to write JavaScript.\n",
        "\n",
        " 1. Interactive Visualizations\n",
        "  \n",
        "   * Zooming\n",
        "\n",
        "   * Panning\n",
        "\n",
        "   * Hover tooltips\n",
        "\n",
        "   * nked brushing between plots\n",
        "\n",
        "2. Web Integration\n",
        "\n",
        "  Bokeh generates output as HTML, JavaScript, or JSON, allowing plots to be:\n",
        "\n",
        "  * Embedded in web pages\n",
        "\n",
        "  * Viewed in Jupyter Noteboo\n",
        "\n",
        "  * Served as interactive web apps using bokeh serve\n",
        "\n",
        "3. Python-Only Workflow\n",
        "\n",
        "  * Bokeh lets you build rich visualizations using only Python—no need to write HTML, CSS, or JavaScript.\n",
        "\n",
        "  * Makes it easier for Python data scientists to build web-grade plots."
      ],
      "metadata": {
        "id": "tLmkh8eSksMn"
      }
    },
    {
      "cell_type": "markdown",
      "source": [
        "Q-17  Explain the difference between apply() and map() in Pandas.\n",
        "\n",
        "\n",
        " ANS-- | Feature            | `map()`                               |    `apply()`                                     |\n",
        "| ------------------ | ------------------------------------- | --------------------------------------------- |\n",
        "| **Used on**        | **Series only**                       | **Series and DataFrames**                     |\n",
        "| **Applies to**     | Each **element** of a Series          | Can apply to **rows or columns** (axis-based) |\n",
        "| **Function Types** | Function, dictionary, or Series       | Function only                                 |\n",
        "| **Returns**        | Series with transformed values        | Series, DataFrame, or scalar (depends)        |\n",
        "| **Use Case**       | Element-wise transformation of Series | Row/column-wise transformations, aggregation  |\n"
      ],
      "metadata": {
        "id": "psEyMefomLN1"
      }
    },
    {
      "cell_type": "markdown",
      "source": [
        "Q-18  What are some advanced features of NumPy?\n",
        "\n",
        "ANS-- NumPy is not just about arrays and basic math — it also includes advanced features that make it incredibly powerful for scientific computing, machine learning, and high-performance data processing."
      ],
      "metadata": {
        "id": "b-N2OcxdmjgX"
      }
    },
    {
      "cell_type": "markdown",
      "source": [
        "Q-19 How does Pandas simplify time series analysis?\n",
        "\n",
        " ANS-- Pandas simplifies time series analysis by providing a rich set of tools and built-in functions that make it easy to manipulate, analyze, and visualize time-based data. Its features are especially helpful for tasks like financial analysis, forecasting, data cleaning, and resampling.\n",
        "\n",
        "  "
      ],
      "metadata": {
        "id": "f36AIL5dnEpw"
      }
    },
    {
      "cell_type": "markdown",
      "source": [
        "Q-20  What is the role of a pivot table in Pandas?\n",
        "\n",
        " ANS-- A pivot table in Pandas is a powerful tool for summarizing, reshaping, and analyzing data — similar to pivot tables in Excel.\n",
        "\n",
        "\n",
        " ROLE OF PIVOT TABLE IN PANDAS:\n",
        "\n",
        " 1. Summarize Data by Grouping\n",
        "   \n",
        "   * Pivot tables aggregate data based on one or more keys.\n",
        "\n",
        "   * You can specify how to aggregate (sum, mean, count, etc.) the values.\n",
        "\n",
        " 2. Reshape Data\n",
        "\n",
        "  * Transforms data from a long format (row-wise) to a wide format.\n",
        "\n",
        "  * Turns unique values from one column into columns in the new table.\n",
        "\n",
        "\n",
        " 3. Multi-dimensional Aggregation\n",
        "\n",
        "  * Allows grouping on multiple indices (rows) and multiple columns.\n",
        "\n",
        "  * Enables complex analysis across several categories."
      ],
      "metadata": {
        "id": "SvQ0WjzXnXf8"
      }
    },
    {
      "cell_type": "markdown",
      "source": [
        "Q-21 Why is NumPy’s array slicing faster than Python’s list slicing?\n",
        "\n",
        "  ANS-- The key reason NumPy’s array slicing is faster than Python’s list slicing comes down to how data is stored and accessed under the hood.\n",
        "\n",
        "\n",
        "1. Contiguous Memory Storage\n",
        "\n",
        "  NumPy arrays store elements in a contiguous block of memory (like C arrays).\n",
        "\n",
        "This means slicing is just creating a view into that block—no data copying.\n",
        "\n",
        "Python lists store references to objects scattered in memory, so slicing involves creating a new list and copying references.\n",
        "\n",
        "2. Views vs Copies\n",
        "\n",
        "  * NumPy slices return a view of the original array (no data copied).\n",
        "\n",
        "  * Python list slicing creates a new list and copies references to each element.\n",
        "  \n",
        "  EXAMPLE:-\n",
        "     \n",
        "     import numpy as np\n",
        "\n",
        "arr = np.arange(1000000)\n",
        "slice_arr = arr[100:200]  # Fast: just a view\n",
        "\n",
        "lst = list(range(1000000))\n",
        "slice_lst = lst[100:200]  # Slower: copies 100 references\n"
      ],
      "metadata": {
        "id": "WiSbs64RoalS"
      }
    },
    {
      "cell_type": "markdown",
      "source": [
        "Q-22 What are some common use cases for Seaborn?\n",
        "\n",
        " ANS-- Seaborn is a popular Python visualization library built on top of Matplotlib, designed to make statistical graphics easier and more attractive.\n",
        "\n",
        "1. Exploratory Data Analysis (EDA)\n",
        "  \n",
        "  * Quickly visualize distributions, relationships, and patterns in data.\n",
        "\n",
        "  * Examples: histograms, boxplots, violin plots, scatterplots.\n",
        "\n",
        "2. Visualizing Statistical Relationships\n",
        "  \n",
        "\n",
        "  * Scatterplots with regression lines (sns.lmplot)\n",
        "\n",
        "  * Heatmaps for correlation matrices (sns.heatmap)\n",
        "\n",
        "  * Pair plots to see pairwise relationships (sns.pairplot)\n",
        "\n",
        "3. Categorical Data Visualization\n",
        "\n",
        "   * Bar plots (sns.barplot)\n",
        "\n",
        "   * Count plots (sns.countplot)\n",
        "\n",
        "   * Boxplots and violin plots for distribution across categories\n"
      ],
      "metadata": {
        "id": "2q_03QNrpb-W"
      }
    },
    {
      "cell_type": "markdown",
      "source": [
        "PRACTICAL QUSTIONS\n"
      ],
      "metadata": {
        "id": "oyvUGrFxny38"
      }
    },
    {
      "cell_type": "markdown",
      "source": [
        "Q-1 How do you create a 2D NumPy array and calculate the sum of each row"
      ],
      "metadata": {
        "id": "wZzjMWCBn59q"
      }
    },
    {
      "cell_type": "code",
      "source": [
        "import numpy as np\n",
        "\n",
        "# Create a 2D NumPy array\n",
        "array_2d = np.array([[1, 2, 3],\n",
        "                     [4, 5, 6],\n",
        "                     [7, 8, 9]])\n",
        "\n",
        "print(\"2D NumPy Array:\")\n",
        "print(array_2d)\n",
        "\n",
        "# Calculate the sum of each row\n",
        "row_sums = np.sum(array_2d, axis=1)\n",
        "\n",
        "print(\"\\nSum of each row:\")\n",
        "print(row_sums)"
      ],
      "metadata": {
        "colab": {
          "base_uri": "https://localhost:8080/"
        },
        "id": "f7yKO10fv1d0",
        "outputId": "1b0a4c9f-9e3a-4cb4-be7f-29464c3fa035"
      },
      "execution_count": null,
      "outputs": [
        {
          "output_type": "stream",
          "name": "stdout",
          "text": [
            "2D NumPy Array:\n",
            "[[1 2 3]\n",
            " [4 5 6]\n",
            " [7 8 9]]\n",
            "\n",
            "Sum of each row:\n",
            "[ 6 15 24]\n"
          ]
        }
      ]
    },
    {
      "cell_type": "markdown",
      "source": [
        "Q-2  Write a Pandas script to find the mean of a specific column in a DataFrame."
      ],
      "metadata": {
        "id": "X4Yju5ZSpzS_"
      }
    },
    {
      "cell_type": "code",
      "source": [
        "import pandas as pd\n",
        "\n",
        "data={\n",
        "    'name':['alice','bob','charlie','david'],\n",
        "    'age':[25,30,35,40],\n",
        "    'salary':[50000,60000,70000,80000]\n",
        "}\n",
        "\n",
        "df=pd.DataFrame(data)\n",
        "\n",
        "mean_salary=df['salary'].mean()\n",
        "print(\"mean salary:\",mean_salary)"
      ],
      "metadata": {
        "colab": {
          "base_uri": "https://localhost:8080/"
        },
        "id": "QrwF59qrp7XH",
        "outputId": "fb76443f-8a6b-4666-c16c-33bd7c4e870f"
      },
      "execution_count": null,
      "outputs": [
        {
          "output_type": "stream",
          "name": "stdout",
          "text": [
            "mean salary: 65000.0\n"
          ]
        }
      ]
    },
    {
      "cell_type": "markdown",
      "source": [
        "Q-3  Create a scatter plot using Matplotlib."
      ],
      "metadata": {
        "id": "HCPfXn4sriyc"
      }
    },
    {
      "cell_type": "code",
      "source": [
        "import matplotlib.pyplot as plt\n",
        "\n",
        "# Sample data\n",
        "x = [1, 2, 3, 4, 5]\n",
        "y = [5, 7, 4, 6, 8]\n",
        "\n",
        "# Create scatter plot\n",
        "plt.scatter(x, y, color='blue', marker='o')\n",
        "\n",
        "# Add labels and title\n",
        "plt.xlabel('X-axis Label')\n",
        "plt.ylabel('Y-axis Label')\n",
        "plt.title('Simple Scatter Plot')\n",
        "\n",
        "# Show the plot\n",
        "plt.show()\n"
      ],
      "metadata": {
        "colab": {
          "base_uri": "https://localhost:8080/",
          "height": 472
        },
        "id": "-v1mDEHArnHd",
        "outputId": "5e09a47b-74d9-4dcd-fe07-2a99244ae056"
      },
      "execution_count": null,
      "outputs": [
        {
          "output_type": "display_data",
          "data": {
            "text/plain": [
              "<Figure size 640x480 with 1 Axes>"
            ],
            "image/png": "[encoded data removed]"
          },
          "metadata": {}
        }
      ]
    },
    {
      "cell_type": "markdown",
      "source": [
        "Q-4  How do you calculate the correlation matrix using Seaborn and visualize it with a heatmap?"
      ],
      "metadata": {
        "id": "azuc244HsAMk"
      }
    },
    {
      "cell_type": "code",
      "source": [
        "import pandas as pd\n",
        "import seaborn as sns\n",
        "import matplotlib.pyplot as plt\n",
        "\n",
        "# sample dataframe\n",
        "data={'math': [90,85,78,92,88],\n",
        "     'science':[85,80,70,95,80],\n",
        "      'english':[75,78,72,80,85],\n",
        "      'history':[65,66,55,45,50]\n",
        "}\n",
        "\n",
        "df = pd.DataFrame(data)\n",
        "\n",
        "# calculate the correlation matrix\n",
        "corr_matrix = df.corr()\n",
        "\n",
        "# create a heatmap\n",
        "plt.figure(figsize=(8,6))\n",
        "sns.heatmap(corr_matrix, annot=True, cmap='coolwarm', fmt='.2f')\n",
        "\n",
        "# add title\n",
        "plt.title('Correlation Matrix')\n",
        "\n",
        "# show the plot\n",
        "plt.show()"
      ],
      "metadata": {
        "colab": {
          "base_uri": "https://localhost:8080/",
          "height": 545
        },
        "id": "dzx24svhsFVI",
        "outputId": "7dfd6196-dd72-4402-95db-cdd771c9e6e6"
      },
      "execution_count": null,
      "outputs": [
        {
          "output_type": "display_data",
          "data": {
            "text/plain": [
              "<Figure size 800x600 with 2 Axes>"
            ],
            "image/png": "[encoded data removed]"
          },
          "metadata": {}
        }
      ]
    },
    {
      "cell_type": "markdown",
      "source": [
        "Q-5  Generate a bar plot using Plotly."
      ],
      "metadata": {
        "id": "h9nEzAnTvQaW"
      }
    },
    {
      "cell_type": "code",
      "source": [
        "import plotly.express as px\n",
        "\n",
        "# Sample data\n",
        "data = {\n",
        "    'Fruits': ['Apples', 'Bananas', 'Cherries', 'Dates'],\n",
        "    'Quantity': [10, 15, 7, 12]\n",
        "}\n",
        "\n",
        "# Create bar plot\n",
        "fig = px.bar(data, x='Fruits', y='Quantity', title='Fruit Sales')\n",
        "\n",
        "# Show the plot\n",
        "fig.show()\n"
      ],
      "metadata": {
        "colab": {
          "base_uri": "https://localhost:8080/",
          "height": 542
        },
        "id": "zW7A5oJKxssN",
        "outputId": "dbd9a2d8-6613-4c61-8f36-e5f48bf2f137"
      },
      "execution_count": null,
      "outputs": [
        {
          "output_type": "display_data",
          "data": {
            "text/html": [
              "<html>\n",
              "<head><meta charset=\"utf-8\" /></head>\n",
              "<body>\n",
              "    <div>            <script src=\"https://cdnjs.cloudflare.com/ajax/libs/mathjax/2.7.5/MathJax.js?config=TeX-AMS-MML_SVG\"></script><script type=\"text/javascript\">if (window.MathJax && window.MathJax.Hub && window.MathJax.Hub.Config) {window.MathJax.Hub.Config({SVG: {font: \"STIX-Web\"}});}</script>                <script type=\"text/javascript\">window.PlotlyConfig = {MathJaxConfig: 'local'};</script>\n",
              "        <script charset=\"utf-8\" src=\"https://cdn.plot.ly/plotly-2.35.2.min.js\"></script>                <div id=\"2c2bcd30-0ea7-4d9b-84d0-f6eacb0e374b\" class=\"plotly-graph-div\" style=\"height:525px; width:100%;\"></div>            <script type=\"text/javascript\">                                    window.PLOTLYENV=window.PLOTLYENV || {};                                    if (document.getElementById(\"2c2bcd30-0ea7-4d9b-84d0-f6eacb0e374b\")) {                    Plotly.newPlot(                        \"2c2bcd30-0ea7-4d9b-84d0-f6eacb0e374b\",                        [{\"alignmentgroup\":\"True\",\"hovertemplate\":\"Fruits=%{x}\\u003cbr\\u003eQuantity=%{y}\\u003cextra\\u003e\\u003c\\u002fextra\\u003e\",\"legendgroup\":\"\",\"marker\":{\"color\":\"#636efa\",\"pattern\":{\"shape\":\"\"}},\"name\":\"\",\"offsetgroup\":\"\",\"orientation\":\"v\",\"showlegend\":false,\"textposition\":\"auto\",\"x\":[\"Apples\",\"Bananas\",\"Cherries\",\"Dates\"],\"xaxis\":\"x\",\"y\":[10,15,7,12],\"yaxis\":\"y\",\"type\":\"bar\"}],                        {\"template\":{\"data\":{\"histogram2dcontour\":[{\"type\":\"histogram2dcontour\",\"colorbar\":{\"outlinewidth\":0,\"ticks\":\"\"},\"colorscale\":[[0.0,\"#0d0887\"],[0.1111111111111111,\"#46039f\"],[0.2222222222222222,\"#7201a8\"],[0.3333333333333333,\"#9c179e\"],[0.4444444444444444,\"#bd3786\"],[0.5555555555555556,\"#d8576b\"],[0.6666666666666666,\"#ed7953\"],[0.7777777777777778,\"#fb9f3a\"],[0.8888888888888888,\"#fdca26\"],[1.0,\"#f0f921\"]]}],\"choropleth\":[{\"type\":\"choropleth\",\"colorbar\":{\"outlinewidth\":0,\"ticks\":\"\"}}],\"histogram2d\":[{\"type\":\"histogram2d\",\"colorbar\":{\"outlinewidth\":0,\"ticks\":\"\"},\"colorscale\":[[0.0,\"#0d0887\"],[0.1111111111111111,\"#46039f\"],[0.2222222222222222,\"#7201a8\"],[0.3333333333333333,\"#9c179e\"],[0.4444444444444444,\"#bd3786\"],[0.5555555555555556,\"#d8576b\"],[0.6666666666666666,\"#ed7953\"],[0.7777777777777778,\"#fb9f3a\"],[0.8888888888888888,\"#fdca26\"],[1.0,\"#f0f921\"]]}],\"heatmap\":[{\"type\":\"heatmap\",\"colorbar\":{\"outlinewidth\":0,\"ticks\":\"\"},\"colorscale\":[[0.0,\"#0d0887\"],[0.1111111111111111,\"#46039f\"],[0.2222222222222222,\"#7201a8\"],[0.3333333333333333,\"#9c179e\"],[0.4444444444444444,\"#bd3786\"],[0.5555555555555556,\"#d8576b\"],[0.6666666666666666,\"#ed7953\"],[0.7777777777777778,\"#fb9f3a\"],[0.8888888888888888,\"#fdca26\"],[1.0,\"#f0f921\"]]}],\"heatmapgl\":[{\"type\":\"heatmapgl\",\"colorbar\":{\"outlinewidth\":0,\"ticks\":\"\"},\"colorscale\":[[0.0,\"#0d0887\"],[0.1111111111111111,\"#46039f\"],[0.2222222222222222,\"#7201a8\"],[0.3333333333333333,\"#9c179e\"],[0.4444444444444444,\"#bd3786\"],[0.5555555555555556,\"#d8576b\"],[0.6666666666666666,\"#ed7953\"],[0.7777777777777778,\"#fb9f3a\"],[0.8888888888888888,\"#fdca26\"],[1.0,\"#f0f921\"]]}],\"contourcarpet\":[{\"type\":\"contourcarpet\",\"colorbar\":{\"outlinewidth\":0,\"ticks\":\"\"}}],\"contour\":[{\"type\":\"contour\",\"colorbar\":{\"outlinewidth\":0,\"ticks\":\"\"},\"colorscale\":[[0.0,\"#0d0887\"],[0.1111111111111111,\"#46039f\"],[0.2222222222222222,\"#7201a8\"],[0.3333333333333333,\"#9c179e\"],[0.4444444444444444,\"#bd3786\"],[0.5555555555555556,\"#d8576b\"],[0.6666666666666666,\"#ed7953\"],[0.7777777777777778,\"#fb9f3a\"],[0.8888888888888888,\"#fdca26\"],[1.0,\"#f0f921\"]]}],\"surface\":[{\"type\":\"surface\",\"colorbar\":{\"outlinewidth\":0,\"ticks\":\"\"},\"colorscale\":[[0.0,\"#0d0887\"],[0.1111111111111111,\"#46039f\"],[0.2222222222222222,\"#7201a8\"],[0.3333333333333333,\"#9c179e\"],[0.4444444444444444,\"#bd3786\"],[0.5555555555555556,\"#d8576b\"],[0.6666666666666666,\"#ed7953\"],[0.7777777777777778,\"#fb9f3a\"],[0.8888888888888888,\"#fdca26\"],[1.0,\"#f0f921\"]]}],\"mesh3d\":[{\"type\":\"mesh3d\",\"colorbar\":{\"outlinewidth\":0,\"ticks\":\"\"}}],\"scatter\":[{\"fillpattern\":{\"fillmode\":\"overlay\",\"size\":10,\"solidity\":0.2},\"type\":\"scatter\"}],\"parcoords\":[{\"type\":\"parcoords\",\"line\":{\"colorbar\":{\"outlinewidth\":0,\"ticks\":\"\"}}}],\"scatterpolargl\":[{\"type\":\"scatterpolargl\",\"marker\":{\"colorbar\":{\"outlinewidth\":0,\"ticks\":\"\"}}}],\"bar\":[{\"error_x\":{\"color\":\"#2a3f5f\"},\"error_y\":{\"color\":\"#2a3f5f\"},\"marker\":{\"line\":{\"color\":\"#E5ECF6\",\"width\":0.5},\"pattern\":{\"fillmode\":\"overlay\",\"size\":10,\"solidity\":0.2}},\"type\":\"bar\"}],\"scattergeo\":[{\"type\":\"scattergeo\",\"marker\":{\"colorbar\":{\"outlinewidth\":0,\"ticks\":\"\"}}}],\"scatterpolar\":[{\"type\":\"scatterpolar\",\"marker\":{\"colorbar\":{\"outlinewidth\":0,\"ticks\":\"\"}}}],\"histogram\":[{\"marker\":{\"pattern\":{\"fillmode\":\"overlay\",\"size\":10,\"solidity\":0.2}},\"type\":\"histogram\"}],\"scattergl\":[{\"type\":\"scattergl\",\"marker\":{\"colorbar\":{\"outlinewidth\":0,\"ticks\":\"\"}}}],\"scatter3d\":[{\"type\":\"scatter3d\",\"line\":{\"colorbar\":{\"outlinewidth\":0,\"ticks\":\"\"}},\"marker\":{\"colorbar\":{\"outlinewidth\":0,\"ticks\":\"\"}}}],\"scattermapbox\":[{\"type\":\"scattermapbox\",\"marker\":{\"colorbar\":{\"outlinewidth\":0,\"ticks\":\"\"}}}],\"scatterternary\":[{\"type\":\"scatterternary\",\"marker\":{\"colorbar\":{\"outlinewidth\":0,\"ticks\":\"\"}}}],\"scattercarpet\":[{\"type\":\"scattercarpet\",\"marker\":{\"colorbar\":{\"outlinewidth\":0,\"ticks\":\"\"}}}],\"carpet\":[{\"aaxis\":{\"endlinecolor\":\"#2a3f5f\",\"gridcolor\":\"white\",\"linecolor\":\"white\",\"minorgridcolor\":\"white\",\"startlinecolor\":\"#2a3f5f\"},\"baxis\":{\"endlinecolor\":\"#2a3f5f\",\"gridcolor\":\"white\",\"linecolor\":\"white\",\"minorgridcolor\":\"white\",\"startlinecolor\":\"#2a3f5f\"},\"type\":\"carpet\"}],\"table\":[{\"cells\":{\"fill\":{\"color\":\"#EBF0F8\"},\"line\":{\"color\":\"white\"}},\"header\":{\"fill\":{\"color\":\"#C8D4E3\"},\"line\":{\"color\":\"white\"}},\"type\":\"table\"}],\"barpolar\":[{\"marker\":{\"line\":{\"color\":\"#E5ECF6\",\"width\":0.5},\"pattern\":{\"fillmode\":\"overlay\",\"size\":10,\"solidity\":0.2}},\"type\":\"barpolar\"}],\"pie\":[{\"automargin\":true,\"type\":\"pie\"}]},\"layout\":{\"autotypenumbers\":\"strict\",\"colorway\":[\"#636efa\",\"#EF553B\",\"#00cc96\",\"#ab63fa\",\"#FFA15A\",\"#19d3f3\",\"#FF6692\",\"#B6E880\",\"#FF97FF\",\"#FECB52\"],\"font\":{\"color\":\"#2a3f5f\"},\"hovermode\":\"closest\",\"hoverlabel\":{\"align\":\"left\"},\"paper_bgcolor\":\"white\",\"plot_bgcolor\":\"#E5ECF6\",\"polar\":{\"bgcolor\":\"#E5ECF6\",\"angularaxis\":{\"gridcolor\":\"white\",\"linecolor\":\"white\",\"ticks\":\"\"},\"radialaxis\":{\"gridcolor\":\"white\",\"linecolor\":\"white\",\"ticks\":\"\"}},\"ternary\":{\"bgcolor\":\"#E5ECF6\",\"aaxis\":{\"gridcolor\":\"white\",\"linecolor\":\"white\",\"ticks\":\"\"},\"baxis\":{\"gridcolor\":\"white\",\"linecolor\":\"white\",\"ticks\":\"\"},\"caxis\":{\"gridcolor\":\"white\",\"linecolor\":\"white\",\"ticks\":\"\"}},\"coloraxis\":{\"colorbar\":{\"outlinewidth\":0,\"ticks\":\"\"}},\"colorscale\":{\"sequential\":[[0.0,\"#0d0887\"],[0.1111111111111111,\"#46039f\"],[0.2222222222222222,\"#7201a8\"],[0.3333333333333333,\"#9c179e\"],[0.4444444444444444,\"#bd3786\"],[0.5555555555555556,\"#d8576b\"],[0.6666666666666666,\"#ed7953\"],[0.7777777777777778,\"#fb9f3a\"],[0.8888888888888888,\"#fdca26\"],[1.0,\"#f0f921\"]],\"sequentialminus\":[[0.0,\"#0d0887\"],[0.1111111111111111,\"#46039f\"],[0.2222222222222222,\"#7201a8\"],[0.3333333333333333,\"#9c179e\"],[0.4444444444444444,\"#bd3786\"],[0.5555555555555556,\"#d8576b\"],[0.6666666666666666,\"#ed7953\"],[0.7777777777777778,\"#fb9f3a\"],[0.8888888888888888,\"#fdca26\"],[1.0,\"#f0f921\"]],\"diverging\":[[0,\"#8e0152\"],[0.1,\"#c51b7d\"],[0.2,\"#de77ae\"],[0.3,\"#f1b6da\"],[0.4,\"#fde0ef\"],[0.5,\"#f7f7f7\"],[0.6,\"#e6f5d0\"],[0.7,\"#b8e186\"],[0.8,\"#7fbc41\"],[0.9,\"#4d9221\"],[1,\"#276419\"]]},\"xaxis\":{\"gridcolor\":\"white\",\"linecolor\":\"white\",\"ticks\":\"\",\"title\":{\"standoff\":15},\"zerolinecolor\":\"white\",\"automargin\":true,\"zerolinewidth\":2},\"yaxis\":{\"gridcolor\":\"white\",\"linecolor\":\"white\",\"ticks\":\"\",\"title\":{\"standoff\":15},\"zerolinecolor\":\"white\",\"automargin\":true,\"zerolinewidth\":2},\"scene\":{\"xaxis\":{\"backgroundcolor\":\"#E5ECF6\",\"gridcolor\":\"white\",\"linecolor\":\"white\",\"showbackground\":true,\"ticks\":\"\",\"zerolinecolor\":\"white\",\"gridwidth\":2},\"yaxis\":{\"backgroundcolor\":\"#E5ECF6\",\"gridcolor\":\"white\",\"linecolor\":\"white\",\"showbackground\":true,\"ticks\":\"\",\"zerolinecolor\":\"white\",\"gridwidth\":2},\"zaxis\":{\"backgroundcolor\":\"#E5ECF6\",\"gridcolor\":\"white\",\"linecolor\":\"white\",\"showbackground\":true,\"ticks\":\"\",\"zerolinecolor\":\"white\",\"gridwidth\":2}},\"shapedefaults\":{\"line\":{\"color\":\"#2a3f5f\"}},\"annotationdefaults\":{\"arrowcolor\":\"#2a3f5f\",\"arrowhead\":0,\"arrowwidth\":1},\"geo\":{\"bgcolor\":\"white\",\"landcolor\":\"#E5ECF6\",\"subunitcolor\":\"white\",\"showland\":true,\"showlakes\":true,\"lakecolor\":\"white\"},\"title\":{\"x\":0.05},\"mapbox\":{\"style\":\"light\"}}},\"xaxis\":{\"anchor\":\"y\",\"domain\":[0.0,1.0],\"title\":{\"text\":\"Fruits\"}},\"yaxis\":{\"anchor\":\"x\",\"domain\":[0.0,1.0],\"title\":{\"text\":\"Quantity\"}},\"legend\":{\"tracegroupgap\":0},\"title\":{\"text\":\"Fruit Sales\"},\"barmode\":\"relative\"},                        {\"responsive\": true}                    ).then(function(){\n",
              "                            \n",
              "var gd = document.getElementById('2c2bcd30-0ea7-4d9b-84d0-f6eacb0e374b');\n",
              "var x = new MutationObserver(function (mutations, observer) {{\n",
              "        var display = window.getComputedStyle(gd).display;\n",
              "        if (!display || display === 'none') {{\n",
              "            console.log([gd, 'removed!']);\n",
              "            Plotly.purge(gd);\n",
              "            observer.disconnect();\n",
              "        }}\n",
              "}});\n",
              "\n",
              "// Listen for the removal of the full notebook cells\n",
              "var notebookContainer = gd.closest('#notebook-container');\n",
              "if (notebookContainer) {{\n",
              "    x.observe(notebookContainer, {childList: true});\n",
              "}}\n",
              "\n",
              "// Listen for the clearing of the current output cell\n",
              "var outputEl = gd.closest('.output');\n",
              "if (outputEl) {{\n",
              "    x.observe(outputEl, {childList: true});\n",
              "}}\n",
              "\n",
              "                        })                };                            </script>        </div>\n",
              "</body>\n",
              "</html>"
            ]
          },
          "metadata": {}
        }
      ]
    },
    {
      "cell_type": "markdown",
      "source": [
        "Q-6 Create a DataFrame and add a new column based on an existing column."
      ],
      "metadata": {
        "id": "mzFREPa0x25C"
      }
    },
    {
      "cell_type": "code",
      "source": [
        "import pandas as pd\n",
        "\n",
        "# create initial dataframe\n",
        "data={'name':['alice',\"bob\",'charlie','david'],\n",
        "      'salary':[50000,60000,700000,800000]\n",
        "}\n",
        "\n",
        "df=pd.DataFrame(data)\n",
        "\n",
        "# add a new coloum 'tax' as 10% of the 'salary'\n",
        "df['tax']=df['salary']*0.10\n",
        "\n",
        "# show the updateed dataframe\n",
        "print(df)"
      ],
      "metadata": {
        "colab": {
          "base_uri": "https://localhost:8080/"
        },
        "id": "hybtKdsLx7x_",
        "outputId": "a613749b-430c-4817-a6db-92adc9b0c6b4"
      },
      "execution_count": null,
      "outputs": [
        {
          "output_type": "stream",
          "name": "stdout",
          "text": [
            "      name  salary      tax\n",
            "0    alice   50000   5000.0\n",
            "1      bob   60000   6000.0\n",
            "2  charlie  700000  70000.0\n",
            "3    david  800000  80000.0\n"
          ]
        }
      ]
    },
    {
      "cell_type": "markdown",
      "source": [
        "Q-7  Write a program to perform element-wise multiplication of two NumPy arrays."
      ],
      "metadata": {
        "id": "Le_zXes-zl_9"
      }
    },
    {
      "cell_type": "code",
      "source": [
        "import numpy as np\n",
        "\n",
        "# define two numpy arrays\n",
        "a=np.array([1,2,3,4])\n",
        "b=np.array([10,20,50,40])\n",
        "#element-wise multiplication\n",
        "\n",
        "result=a*b\n",
        "\n",
        "print(\"result of element-wise multiplication:\",result)"
      ],
      "metadata": {
        "colab": {
          "base_uri": "https://localhost:8080/"
        },
        "id": "qagSVJaezu5-",
        "outputId": "b598a186-533c-4a38-c7b3-7a4343aa4256"
      },
      "execution_count": null,
      "outputs": [
        {
          "output_type": "stream",
          "name": "stdout",
          "text": [
            "result of element-wise multiplication: [ 10  40 150 160]\n"
          ]
        }
      ]
    },
    {
      "cell_type": "markdown",
      "source": [
        "Q-8 Create a line plot with multiple lines using Matplotlib."
      ],
      "metadata": {
        "id": "Tps0FBSX1Ekr"
      }
    },
    {
      "cell_type": "code",
      "source": [
        "import matplotlib.pyplot as plt\n",
        "\n",
        "# Sample data\n",
        "x = [1, 2, 3, 4, 5]\n",
        "y1 = [1, 4, 9, 16, 25]     # Line 1: y = x^2\n",
        "y2 = [1, 2, 3, 4, 5]       # Line 2: y = x\n",
        "y3 = [25, 20, 15, 10, 5]   # Line 3: y = decreasing\n",
        "\n",
        "# Create the plot\n",
        "plt.plot(x, y1, label='x squared', color='blue', marker='o')\n",
        "plt.plot(x, y2, label='x', color='green', linestyle='--', marker='s')\n",
        "plt.plot(x, y3, label='decreasing', color='red', linestyle='-.', marker='^')\n",
        "\n",
        "# Add labels and title\n",
        "plt.xlabel('X-axis')\n",
        "plt.ylabel('Y-axis')\n",
        "plt.title('Line Plot with Multiple Lines')\n",
        "\n",
        "# Show legend\n",
        "plt.legend()\n",
        "\n",
        "# Show plot\n",
        "plt.grid(True)\n",
        "plt.tight_layout()\n",
        "plt.show()\n"
      ],
      "metadata": {
        "colab": {
          "base_uri": "https://localhost:8080/",
          "height": 487
        },
        "id": "rP5gElCu1Lql",
        "outputId": "351de1ed-63d1-41d3-e55e-8246f1cfa1d4"
      },
      "execution_count": null,
      "outputs": [
        {
          "output_type": "display_data",
          "data": {
            "text/plain": [
              "<Figure size 640x480 with 1 Axes>"
            ],
            "image/png": "[encoded data removed]"
          },
          "metadata": {}
        }
      ]
    },
    {
      "cell_type": "markdown",
      "source": [
        "Q-9  Generate a Pandas DataFrame and filter rows where a column value is greater than a threshold."
      ],
      "metadata": {
        "id": "0qYjfd5F3X3M"
      }
    },
    {
      "cell_type": "code",
      "source": [
        "import pandas as pd\n",
        "# sample data\n",
        "data={'name':['alice','bob','charlie','david','eva'],\n",
        "      'score':[87,88,55,90,50]\n",
        "      }\n",
        "\n",
        "  # Create DataFrame\n",
        "df = pd.DataFrame(data)\n",
        "\n",
        "# Set the threshold\n",
        "threshold = 70\n",
        "\n",
        "# Filter rows where 'Score' is greater than the threshold\n",
        "filtered_df = df[df['score'] > threshold]\n",
        "\n",
        "# Show the result\n",
        "print(filtered_df)"
      ],
      "metadata": {
        "colab": {
          "base_uri": "https://localhost:8080/"
        },
        "id": "05i3LGbB4WlS",
        "outputId": "d7348c64-df72-4969-e716-137c5d20cf1c"
      },
      "execution_count": null,
      "outputs": [
        {
          "output_type": "stream",
          "name": "stdout",
          "text": [
            "    name  score\n",
            "0  alice     87\n",
            "1    bob     88\n",
            "3  david     90\n"
          ]
        }
      ]
    },
    {
      "cell_type": "markdown",
      "source": [
        "Q-10  Create a histogram using Seaborn to visualize a distribution."
      ],
      "metadata": {
        "id": "9_8kEe6_5LZ-"
      }
    },
    {
      "cell_type": "code",
      "source": [
        "import seaborn as sns\n",
        "import matplotlib.pyplot as plt\n",
        "\n",
        "# Sample data\n",
        "data = [55, 42, 67, 89, 45, 66, 73, 58, 91, 60, 59, 77, 85, 62, 70]\n",
        "\n",
        "# Create histogram\n",
        "sns.histplot(data, bins=8, kde=True, color='skyblue')\n",
        "\n",
        "# Add labels and title\n",
        "plt.xlabel('Scores')\n",
        "plt.ylabel('Frequency')\n",
        "plt.title('Distribution of Scores')\n",
        "\n",
        "# Show plot\n",
        "plt.tight_layout()\n",
        "plt.show()\n"
      ],
      "metadata": {
        "colab": {
          "base_uri": "https://localhost:8080/",
          "height": 487
        },
        "id": "vCx9Eigt5eW7",
        "outputId": "d945012f-b72e-4d3e-d352-8f5e3eaf65a8"
      },
      "execution_count": null,
      "outputs": [
        {
          "output_type": "display_data",
          "data": {
            "text/plain": [
              "<Figure size 640x480 with 1 Axes>"
            ],
            "image/png": "[encoded data removed]"
          },
          "metadata": {}
        }
      ]
    },
    {
      "cell_type": "markdown",
      "source": [
        "Q-11  Perform matrix multiplication using NumPy."
      ],
      "metadata": {
        "id": "is2YvpGO5xiW"
      }
    },
    {
      "cell_type": "code",
      "source": [
        "import numpy as np\n",
        "\n",
        "# Define two matrices\n",
        "A = np.array([[1, 2],\n",
        "              [3, 4]])\n",
        "\n",
        "B = np.array([[5, 6],\n",
        "              [7, 8]])\n",
        "\n",
        "# Perform matrix multiplication\n",
        "result = np.dot(A, B)\n",
        "\n",
        "# Alternatively (NumPy 3.5+), use the @ operator\n",
        "# result = A @ B\n",
        "\n",
        "# Print the result\n",
        "print(\"Matrix A:\")\n",
        "print(A)\n",
        "print(\"\\nMatrix B:\")\n",
        "print(B)\n",
        "print(\"\\nResult of A x B:\")\n",
        "print(result)\n"
      ],
      "metadata": {
        "colab": {
          "base_uri": "https://localhost:8080/"
        },
        "id": "heqXW8hH51Vw",
        "outputId": "a0981e6e-8739-49bf-ba43-309031f855b1"
      },
      "execution_count": null,
      "outputs": [
        {
          "output_type": "stream",
          "name": "stdout",
          "text": [
            "Matrix A:\n",
            "[[1 2]\n",
            " [3 4]]\n",
            "\n",
            "Matrix B:\n",
            "[[5 6]\n",
            " [7 8]]\n",
            "\n",
            "Result of A x B:\n",
            "[[19 22]\n",
            " [43 50]]\n"
          ]
        }
      ]
    },
    {
      "cell_type": "markdown",
      "source": [
        "Q-12 Use Pandas to load a CSV file and display its first 5 rows."
      ],
      "metadata": {
        "id": "UdDxZMYo5_ns"
      }
    },
    {
      "cell_type": "code",
      "source": [
        "import pandas as pd\n",
        "# Load a sample dataset available in Colab\n",
        "data=pd.read_csv(\"/content/sample_data/california_housing_train.csv\")\n",
        "print(data.head(5))"
      ],
      "metadata": {
        "colab": {
          "base_uri": "https://localhost:8080/"
        },
        "id": "ge7rc4kgDCkb",
        "outputId": "d3e38e57-e7da-4ce2-b4a0-571683ea28a9"
      },
      "execution_count": null,
      "outputs": [
        {
          "output_type": "stream",
          "name": "stdout",
          "text": [
            "   longitude  latitude  housing_median_age  total_rooms  total_bedrooms  \\\n",
            "0    -114.31     34.19                15.0       5612.0          1283.0   \n",
            "1    -114.47     34.40                19.0       7650.0          1901.0   \n",
            "2    -114.56     33.69                17.0        720.0           174.0   \n",
            "3    -114.57     33.64                14.0       1501.0           337.0   \n",
            "4    -114.57     33.57                20.0       1454.0           326.0   \n",
            "\n",
            "   population  households  median_income  median_house_value  \n",
            "0      1015.0       472.0         1.4936             66900.0  \n",
            "1      1129.0       463.0         1.8200             80100.0  \n",
            "2       333.0       117.0         1.6509             85700.0  \n",
            "3       515.0       226.0         3.1917             73400.0  \n",
            "4       624.0       262.0         1.9250             65500.0  \n"
          ]
        }
      ]
    },
    {
      "cell_type": "markdown",
      "source": [
        "Q-13  Create a 3D scatter plot using Plotly.\n"
      ],
      "metadata": {
        "id": "S0nFPzpPDMbv"
      }
    },
    {
      "cell_type": "code",
      "source": [
        "import plotly.graph_objects as go\n",
        "import numpy as np\n",
        "\n",
        "# Generate some random 3D data\n",
        "np.random.seed(42)\n",
        "x = np.random.randn(50)\n",
        "y = np.random.randn(50)\n",
        "z = np.random.randn(50)\n",
        "\n",
        "# Create 3D scatter plot\n",
        "fig = go.Figure(data=[go.Scatter3d(\n",
        "    x=x,\n",
        "    y=y,\n",
        "    z=z,\n",
        "    mode='markers',\n",
        "    marker=dict(\n",
        "        size=6,\n",
        "        color=z,              # Set color to an array/list of values\n",
        "        colorscale='Viridis', # Choose a colorscale\n",
        "        opacity=0.8\n",
        "    )\n",
        ")])\n",
        "\n",
        "# Set title and axis labels\n",
        "fig.update_layout(\n",
        "    title='3D Scatter Plot Example',\n",
        "    scene=dict(\n",
        "        xaxis_title='X Axis',\n",
        "        yaxis_title='Y Axis',\n",
        "        zaxis_title='Z Axis'\n",
        "    )\n",
        ")\n",
        "\n",
        "# Show the plot\n",
        "fig.show()\n"
      ],
      "metadata": {
        "id": "xGs057lqENAl",
        "colab": {
          "base_uri": "https://localhost:8080/",
          "height": 542
        },
        "outputId": "4e857c42-f562-4489-babd-019fe95b2e9c"
      },
      "execution_count": null,
      "outputs": [
        {
          "output_type": "display_data",
          "data": {
            "text/html": [
              "<html>\n",
              "<head><meta charset=\"utf-8\" /></head>\n",
              "<body>\n",
              "    <div>            <script src=\"https://cdnjs.cloudflare.com/ajax/libs/mathjax/2.7.5/MathJax.js?config=TeX-AMS-MML_SVG\"></script><script type=\"text/javascript\">if (window.MathJax && window.MathJax.Hub && window.MathJax.Hub.Config) {window.MathJax.Hub.Config({SVG: {font: \"STIX-Web\"}});}</script>                <script type=\"text/javascript\">window.PlotlyConfig = {MathJaxConfig: 'local'};</script>\n",
              "        <script charset=\"utf-8\" src=\"https://cdn.plot.ly/plotly-2.35.2.min.js\"></script>                <div id=\"b38f79ef-b883-4c45-b208-0fa79ca2a630\" class=\"plotly-graph-div\" style=\"height:525px; width:100%;\"></div>            <script type=\"text/javascript\">                                    window.PLOTLYENV=window.PLOTLYENV || {};                                    if (document.getElementById(\"b38f79ef-b883-4c45-b208-0fa79ca2a630\")) {                    Plotly.newPlot(                        \"b38f79ef-b883-4c45-b208-0fa79ca2a630\",                        [{\"marker\":{\"color\":[-1.4153707420504142,-0.42064532276535904,-0.3427145165267695,-0.8022772692216189,-0.16128571166600914,0.4040508568145384,1.8861859012105302,0.17457781283183896,0.25755039072276437,-0.07444591576616721,-1.9187712152990415,-0.026513875449216878,0.06023020994102644,2.463242112485286,-0.19236096478112252,0.30154734233361247,-0.03471176970524331,-1.168678037619532,1.1428228145150205,0.7519330326867741,0.7910319470430469,-0.9093874547947389,1.4027943109360992,-1.4018510627922809,0.5868570938002703,2.1904556258099785,-0.9905363251306883,-0.5662977296027719,0.09965136508764122,-0.5034756541161992,-1.5506634310661327,0.06856297480602733,-1.0623037137261049,0.4735924306351816,-0.9194242342338032,1.5499344050175394,-0.7832532923362371,-0.3220615162056756,0.8135172173696698,-1.2308643164339552,0.22745993460412942,1.307142754282428,-1.6074832345612275,0.1846338585323042,0.25988279424842353,0.7818228717773104,-1.236950710878082,-1.3204566130842763,0.5219415656168976,0.29698467323318606],\"colorscale\":[[0.0,\"#440154\"],[0.1111111111111111,\"#482878\"],[0.2222222222222222,\"#3e4989\"],[0.3333333333333333,\"#31688e\"],[0.4444444444444444,\"#26828e\"],[0.5555555555555556,\"#1f9e89\"],[0.6666666666666666,\"#35b779\"],[0.7777777777777778,\"#6ece58\"],[0.8888888888888888,\"#b5de2b\"],[1.0,\"#fde725\"]],\"opacity\":0.8,\"size\":6},\"mode\":\"markers\",\"x\":[0.4967141530112327,-0.13826430117118466,0.6476885381006925,1.5230298564080254,-0.23415337472333597,-0.23413695694918055,1.5792128155073915,0.7674347291529088,-0.4694743859349521,0.5425600435859647,-0.46341769281246226,-0.46572975357025687,0.24196227156603412,-1.913280244657798,-1.7249178325130328,-0.5622875292409727,-1.0128311203344238,0.3142473325952739,-0.9080240755212109,-1.4123037013352915,1.465648768921554,-0.22577630048653566,0.06752820468792384,-1.4247481862134568,-0.5443827245251827,0.11092258970986608,-1.1509935774223028,0.37569801834567196,-0.600638689918805,-0.2916937497932768,-0.6017066122293969,1.8522781845089378,-0.013497224737933921,-1.0577109289559004,0.822544912103189,-1.2208436499710222,0.2088635950047554,-1.9596701238797756,-1.3281860488984305,0.19686123586912352,0.7384665799954104,0.1713682811899705,-0.11564828238824053,-0.3011036955892888,-1.4785219903674274,-0.7198442083947086,-0.4606387709597875,1.0571222262189157,0.3436182895684614,-1.763040155362734],\"y\":[0.324083969394795,-0.38508228041631654,-0.6769220003059587,0.6116762888408679,1.030999522495951,0.9312801191161986,-0.8392175232226385,-0.3092123758512146,0.33126343140356396,0.9755451271223592,-0.47917423784528995,-0.18565897666381712,-1.1063349740060282,-1.1962066240806708,0.812525822394198,1.356240028570823,-0.07201012158033385,1.0035328978920242,0.36163602504763415,-0.6451197546051243,0.36139560550841393,1.5380365664659692,-0.03582603910995154,1.5646436558140062,-2.6197451040897444,0.8219025043752238,0.08704706823817122,-0.29900735046586746,0.0917607765355023,-1.9875689146008928,-0.21967188783751193,0.3571125715117464,1.477894044741516,-0.5182702182736474,-0.8084936028931876,-0.5017570435845365,0.9154021177020741,0.32875110965968446,-0.5297602037670388,0.5132674331133561,0.09707754934804039,0.9686449905328892,-0.7020530938773524,-0.3276621465977682,-0.39210815313215763,-1.4635149481321186,0.29612027706457605,0.26105527217988933,0.00511345664246089,-0.23458713337514692],\"z\":[-1.4153707420504142,-0.42064532276535904,-0.3427145165267695,-0.8022772692216189,-0.16128571166600914,0.4040508568145384,1.8861859012105302,0.17457781283183896,0.25755039072276437,-0.07444591576616721,-1.9187712152990415,-0.026513875449216878,0.06023020994102644,2.463242112485286,-0.19236096478112252,0.30154734233361247,-0.03471176970524331,-1.168678037619532,1.1428228145150205,0.7519330326867741,0.7910319470430469,-0.9093874547947389,1.4027943109360992,-1.4018510627922809,0.5868570938002703,2.1904556258099785,-0.9905363251306883,-0.5662977296027719,0.09965136508764122,-0.5034756541161992,-1.5506634310661327,0.06856297480602733,-1.0623037137261049,0.4735924306351816,-0.9194242342338032,1.5499344050175394,-0.7832532923362371,-0.3220615162056756,0.8135172173696698,-1.2308643164339552,0.22745993460412942,1.307142754282428,-1.6074832345612275,0.1846338585323042,0.25988279424842353,0.7818228717773104,-1.236950710878082,-1.3204566130842763,0.5219415656168976,0.29698467323318606],\"type\":\"scatter3d\"}],                        {\"template\":{\"data\":{\"histogram2dcontour\":[{\"type\":\"histogram2dcontour\",\"colorbar\":{\"outlinewidth\":0,\"ticks\":\"\"},\"colorscale\":[[0.0,\"#0d0887\"],[0.1111111111111111,\"#46039f\"],[0.2222222222222222,\"#7201a8\"],[0.3333333333333333,\"#9c179e\"],[0.4444444444444444,\"#bd3786\"],[0.5555555555555556,\"#d8576b\"],[0.6666666666666666,\"#ed7953\"],[0.7777777777777778,\"#fb9f3a\"],[0.8888888888888888,\"#fdca26\"],[1.0,\"#f0f921\"]]}],\"choropleth\":[{\"type\":\"choropleth\",\"colorbar\":{\"outlinewidth\":0,\"ticks\":\"\"}}],\"histogram2d\":[{\"type\":\"histogram2d\",\"colorbar\":{\"outlinewidth\":0,\"ticks\":\"\"},\"colorscale\":[[0.0,\"#0d0887\"],[0.1111111111111111,\"#46039f\"],[0.2222222222222222,\"#7201a8\"],[0.3333333333333333,\"#9c179e\"],[0.4444444444444444,\"#bd3786\"],[0.5555555555555556,\"#d8576b\"],[0.6666666666666666,\"#ed7953\"],[0.7777777777777778,\"#fb9f3a\"],[0.8888888888888888,\"#fdca26\"],[1.0,\"#f0f921\"]]}],\"heatmap\":[{\"type\":\"heatmap\",\"colorbar\":{\"outlinewidth\":0,\"ticks\":\"\"},\"colorscale\":[[0.0,\"#0d0887\"],[0.1111111111111111,\"#46039f\"],[0.2222222222222222,\"#7201a8\"],[0.3333333333333333,\"#9c179e\"],[0.4444444444444444,\"#bd3786\"],[0.5555555555555556,\"#d8576b\"],[0.6666666666666666,\"#ed7953\"],[0.7777777777777778,\"#fb9f3a\"],[0.8888888888888888,\"#fdca26\"],[1.0,\"#f0f921\"]]}],\"heatmapgl\":[{\"type\":\"heatmapgl\",\"colorbar\":{\"outlinewidth\":0,\"ticks\":\"\"},\"colorscale\":[[0.0,\"#0d0887\"],[0.1111111111111111,\"#46039f\"],[0.2222222222222222,\"#7201a8\"],[0.3333333333333333,\"#9c179e\"],[0.4444444444444444,\"#bd3786\"],[0.5555555555555556,\"#d8576b\"],[0.6666666666666666,\"#ed7953\"],[0.7777777777777778,\"#fb9f3a\"],[0.8888888888888888,\"#fdca26\"],[1.0,\"#f0f921\"]]}],\"contourcarpet\":[{\"type\":\"contourcarpet\",\"colorbar\":{\"outlinewidth\":0,\"ticks\":\"\"}}],\"contour\":[{\"type\":\"contour\",\"colorbar\":{\"outlinewidth\":0,\"ticks\":\"\"},\"colorscale\":[[0.0,\"#0d0887\"],[0.1111111111111111,\"#46039f\"],[0.2222222222222222,\"#7201a8\"],[0.3333333333333333,\"#9c179e\"],[0.4444444444444444,\"#bd3786\"],[0.5555555555555556,\"#d8576b\"],[0.6666666666666666,\"#ed7953\"],[0.7777777777777778,\"#fb9f3a\"],[0.8888888888888888,\"#fdca26\"],[1.0,\"#f0f921\"]]}],\"surface\":[{\"type\":\"surface\",\"colorbar\":{\"outlinewidth\":0,\"ticks\":\"\"},\"colorscale\":[[0.0,\"#0d0887\"],[0.1111111111111111,\"#46039f\"],[0.2222222222222222,\"#7201a8\"],[0.3333333333333333,\"#9c179e\"],[0.4444444444444444,\"#bd3786\"],[0.5555555555555556,\"#d8576b\"],[0.6666666666666666,\"#ed7953\"],[0.7777777777777778,\"#fb9f3a\"],[0.8888888888888888,\"#fdca26\"],[1.0,\"#f0f921\"]]}],\"mesh3d\":[{\"type\":\"mesh3d\",\"colorbar\":{\"outlinewidth\":0,\"ticks\":\"\"}}],\"scatter\":[{\"fillpattern\":{\"fillmode\":\"overlay\",\"size\":10,\"solidity\":0.2},\"type\":\"scatter\"}],\"parcoords\":[{\"type\":\"parcoords\",\"line\":{\"colorbar\":{\"outlinewidth\":0,\"ticks\":\"\"}}}],\"scatterpolargl\":[{\"type\":\"scatterpolargl\",\"marker\":{\"colorbar\":{\"outlinewidth\":0,\"ticks\":\"\"}}}],\"bar\":[{\"error_x\":{\"color\":\"#2a3f5f\"},\"error_y\":{\"color\":\"#2a3f5f\"},\"marker\":{\"line\":{\"color\":\"#E5ECF6\",\"width\":0.5},\"pattern\":{\"fillmode\":\"overlay\",\"size\":10,\"solidity\":0.2}},\"type\":\"bar\"}],\"scattergeo\":[{\"type\":\"scattergeo\",\"marker\":{\"colorbar\":{\"outlinewidth\":0,\"ticks\":\"\"}}}],\"scatterpolar\":[{\"type\":\"scatterpolar\",\"marker\":{\"colorbar\":{\"outlinewidth\":0,\"ticks\":\"\"}}}],\"histogram\":[{\"marker\":{\"pattern\":{\"fillmode\":\"overlay\",\"size\":10,\"solidity\":0.2}},\"type\":\"histogram\"}],\"scattergl\":[{\"type\":\"scattergl\",\"marker\":{\"colorbar\":{\"outlinewidth\":0,\"ticks\":\"\"}}}],\"scatter3d\":[{\"type\":\"scatter3d\",\"line\":{\"colorbar\":{\"outlinewidth\":0,\"ticks\":\"\"}},\"marker\":{\"colorbar\":{\"outlinewidth\":0,\"ticks\":\"\"}}}],\"scattermapbox\":[{\"type\":\"scattermapbox\",\"marker\":{\"colorbar\":{\"outlinewidth\":0,\"ticks\":\"\"}}}],\"scatterternary\":[{\"type\":\"scatterternary\",\"marker\":{\"colorbar\":{\"outlinewidth\":0,\"ticks\":\"\"}}}],\"scattercarpet\":[{\"type\":\"scattercarpet\",\"marker\":{\"colorbar\":{\"outlinewidth\":0,\"ticks\":\"\"}}}],\"carpet\":[{\"aaxis\":{\"endlinecolor\":\"#2a3f5f\",\"gridcolor\":\"white\",\"linecolor\":\"white\",\"minorgridcolor\":\"white\",\"startlinecolor\":\"#2a3f5f\"},\"baxis\":{\"endlinecolor\":\"#2a3f5f\",\"gridcolor\":\"white\",\"linecolor\":\"white\",\"minorgridcolor\":\"white\",\"startlinecolor\":\"#2a3f5f\"},\"type\":\"carpet\"}],\"table\":[{\"cells\":{\"fill\":{\"color\":\"#EBF0F8\"},\"line\":{\"color\":\"white\"}},\"header\":{\"fill\":{\"color\":\"#C8D4E3\"},\"line\":{\"color\":\"white\"}},\"type\":\"table\"}],\"barpolar\":[{\"marker\":{\"line\":{\"color\":\"#E5ECF6\",\"width\":0.5},\"pattern\":{\"fillmode\":\"overlay\",\"size\":10,\"solidity\":0.2}},\"type\":\"barpolar\"}],\"pie\":[{\"automargin\":true,\"type\":\"pie\"}]},\"layout\":{\"autotypenumbers\":\"strict\",\"colorway\":[\"#636efa\",\"#EF553B\",\"#00cc96\",\"#ab63fa\",\"#FFA15A\",\"#19d3f3\",\"#FF6692\",\"#B6E880\",\"#FF97FF\",\"#FECB52\"],\"font\":{\"color\":\"#2a3f5f\"},\"hovermode\":\"closest\",\"hoverlabel\":{\"align\":\"left\"},\"paper_bgcolor\":\"white\",\"plot_bgcolor\":\"#E5ECF6\",\"polar\":{\"bgcolor\":\"#E5ECF6\",\"angularaxis\":{\"gridcolor\":\"white\",\"linecolor\":\"white\",\"ticks\":\"\"},\"radialaxis\":{\"gridcolor\":\"white\",\"linecolor\":\"white\",\"ticks\":\"\"}},\"ternary\":{\"bgcolor\":\"#E5ECF6\",\"aaxis\":{\"gridcolor\":\"white\",\"linecolor\":\"white\",\"ticks\":\"\"},\"baxis\":{\"gridcolor\":\"white\",\"linecolor\":\"white\",\"ticks\":\"\"},\"caxis\":{\"gridcolor\":\"white\",\"linecolor\":\"white\",\"ticks\":\"\"}},\"coloraxis\":{\"colorbar\":{\"outlinewidth\":0,\"ticks\":\"\"}},\"colorscale\":{\"sequential\":[[0.0,\"#0d0887\"],[0.1111111111111111,\"#46039f\"],[0.2222222222222222,\"#7201a8\"],[0.3333333333333333,\"#9c179e\"],[0.4444444444444444,\"#bd3786\"],[0.5555555555555556,\"#d8576b\"],[0.6666666666666666,\"#ed7953\"],[0.7777777777777778,\"#fb9f3a\"],[0.8888888888888888,\"#fdca26\"],[1.0,\"#f0f921\"]],\"sequentialminus\":[[0.0,\"#0d0887\"],[0.1111111111111111,\"#46039f\"],[0.2222222222222222,\"#7201a8\"],[0.3333333333333333,\"#9c179e\"],[0.4444444444444444,\"#bd3786\"],[0.5555555555555556,\"#d8576b\"],[0.6666666666666666,\"#ed7953\"],[0.7777777777777778,\"#fb9f3a\"],[0.8888888888888888,\"#fdca26\"],[1.0,\"#f0f921\"]],\"diverging\":[[0,\"#8e0152\"],[0.1,\"#c51b7d\"],[0.2,\"#de77ae\"],[0.3,\"#f1b6da\"],[0.4,\"#fde0ef\"],[0.5,\"#f7f7f7\"],[0.6,\"#e6f5d0\"],[0.7,\"#b8e186\"],[0.8,\"#7fbc41\"],[0.9,\"#4d9221\"],[1,\"#276419\"]]},\"xaxis\":{\"gridcolor\":\"white\",\"linecolor\":\"white\",\"ticks\":\"\",\"title\":{\"standoff\":15},\"zerolinecolor\":\"white\",\"automargin\":true,\"zerolinewidth\":2},\"yaxis\":{\"gridcolor\":\"white\",\"linecolor\":\"white\",\"ticks\":\"\",\"title\":{\"standoff\":15},\"zerolinecolor\":\"white\",\"automargin\":true,\"zerolinewidth\":2},\"scene\":{\"xaxis\":{\"backgroundcolor\":\"#E5ECF6\",\"gridcolor\":\"white\",\"linecolor\":\"white\",\"showbackground\":true,\"ticks\":\"\",\"zerolinecolor\":\"white\",\"gridwidth\":2},\"yaxis\":{\"backgroundcolor\":\"#E5ECF6\",\"gridcolor\":\"white\",\"linecolor\":\"white\",\"showbackground\":true,\"ticks\":\"\",\"zerolinecolor\":\"white\",\"gridwidth\":2},\"zaxis\":{\"backgroundcolor\":\"#E5ECF6\",\"gridcolor\":\"white\",\"linecolor\":\"white\",\"showbackground\":true,\"ticks\":\"\",\"zerolinecolor\":\"white\",\"gridwidth\":2}},\"shapedefaults\":{\"line\":{\"color\":\"#2a3f5f\"}},\"annotationdefaults\":{\"arrowcolor\":\"#2a3f5f\",\"arrowhead\":0,\"arrowwidth\":1},\"geo\":{\"bgcolor\":\"white\",\"landcolor\":\"#E5ECF6\",\"subunitcolor\":\"white\",\"showland\":true,\"showlakes\":true,\"lakecolor\":\"white\"},\"title\":{\"x\":0.05},\"mapbox\":{\"style\":\"light\"}}},\"title\":{\"text\":\"3D Scatter Plot Example\"},\"scene\":{\"xaxis\":{\"title\":{\"text\":\"X Axis\"}},\"yaxis\":{\"title\":{\"text\":\"Y Axis\"}},\"zaxis\":{\"title\":{\"text\":\"Z Axis\"}}}},                        {\"responsive\": true}                    ).then(function(){\n",
              "                            \n",
              "var gd = document.getElementById('b38f79ef-b883-4c45-b208-0fa79ca2a630');\n",
              "var x = new MutationObserver(function (mutations, observer) {{\n",
              "        var display = window.getComputedStyle(gd).display;\n",
              "        if (!display || display === 'none') {{\n",
              "            console.log([gd, 'removed!']);\n",
              "            Plotly.purge(gd);\n",
              "            observer.disconnect();\n",
              "        }}\n",
              "}});\n",
              "\n",
              "// Listen for the removal of the full notebook cells\n",
              "var notebookContainer = gd.closest('#notebook-container');\n",
              "if (notebookContainer) {{\n",
              "    x.observe(notebookContainer, {childList: true});\n",
              "}}\n",
              "\n",
              "// Listen for the clearing of the current output cell\n",
              "var outputEl = gd.closest('.output');\n",
              "if (outputEl) {{\n",
              "    x.observe(outputEl, {childList: true});\n",
              "}}\n",
              "\n",
              "                        })                };                            </script>        </div>\n",
              "</body>\n",
              "</html>"
            ]
          },
          "metadata": {}
        }
      ]
    }
  ]
}